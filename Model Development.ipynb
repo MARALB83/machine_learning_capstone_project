{
 "cells": [
  {
   "cell_type": "markdown",
   "metadata": {},
   "source": [
    "# Model Development"
   ]
  },
  {
   "cell_type": "markdown",
   "metadata": {},
   "source": [
    "## Import packages"
   ]
  },
  {
   "cell_type": "code",
   "execution_count": 1,
   "metadata": {
    "collapsed": true
   },
   "outputs": [],
   "source": [
    "import pandas as pd\n",
    "import numpy as np\n",
    "import textblob\n",
    "from sklearn.model_selection import train_test_split, cross_validate, GridSearchCV\n",
    "from sklearn.metrics import f1_score, make_scorer, mean_squared_error, classification_report, confusion_matrix\n",
    "from sklearn.naive_bayes import GaussianNB\n",
    "from sklearn.linear_model import LogisticRegression, SGDClassifier, LinearRegression, Lasso, Ridge, ElasticNet, SGDRegressor\n",
    "from sklearn import svm\n",
    "from sklearn.ensemble import RandomForestClassifier, AdaBoostClassifier, GradientBoostingClassifier, GradientBoostingRegressor\n",
    "from sklearn.neighbors import KNeighborsClassifier\n",
    "from sklearn.neural_network import MLPRegressor\n",
    "%matplotlib inline\n",
    "import matplotlib.pyplot as plt\n",
    "plt.style.use('bmh')\n",
    "import itertools"
   ]
  },
  {
   "cell_type": "markdown",
   "metadata": {},
   "source": [
    "## Set files and folders"
   ]
  },
  {
   "cell_type": "code",
   "execution_count": 2,
   "metadata": {
    "collapsed": true
   },
   "outputs": [],
   "source": [
    "data_file = r'./Data/features_targets.csv'\n",
    "data_folder = r'./Data'"
   ]
  },
  {
   "cell_type": "markdown",
   "metadata": {},
   "source": [
    "## Read data"
   ]
  },
  {
   "cell_type": "code",
   "execution_count": 3,
   "metadata": {},
   "outputs": [
    {
     "name": "stderr",
     "output_type": "stream",
     "text": [
      "C:\\Anaconda3\\lib\\site-packages\\numpy\\lib\\arraysetops.py:379: FutureWarning: elementwise comparison failed; returning scalar instead, but in the future will perform elementwise comparison\n",
      "  mask |= (ar1 == a)\n"
     ]
    }
   ],
   "source": [
    "data = pd.read_csv(data_file, index_col = 0)"
   ]
  },
  {
   "cell_type": "markdown",
   "metadata": {},
   "source": [
    "## Features vs labels/targets grouping"
   ]
  },
  {
   "cell_type": "code",
   "execution_count": 4,
   "metadata": {
    "collapsed": true
   },
   "outputs": [],
   "source": [
    "dataset_y_class = data.loc[:,['deal_binary']].copy()\n",
    "dataset_y_continuous = data.loc[:,['deal_probability']].copy()\n",
    "dataset_x = data.loc[:,data.columns[:-2]].copy()"
   ]
  },
  {
   "cell_type": "markdown",
   "metadata": {},
   "source": [
    "## Train / test split"
   ]
  },
  {
   "cell_type": "code",
   "execution_count": 5,
   "metadata": {
    "collapsed": true
   },
   "outputs": [],
   "source": [
    "X_train,X_test,y_class_train,y_class_test=train_test_split(dataset_x, dataset_y_class, test_size=0.4, random_state=1)\n",
    "y_continuous_train = dataset_y_continuous.loc[y_class_train.index,:].copy()\n",
    "y_continuous_test = dataset_y_continuous.loc[y_class_test.index,:].copy()"
   ]
  },
  {
   "cell_type": "code",
   "execution_count": 6,
   "metadata": {
    "collapsed": true
   },
   "outputs": [],
   "source": [
    "#Save train/test dataframe index split for benchmark models\n",
    "train_index = list(X_train.index)\n",
    "test_index = list(X_test.index)"
   ]
  },
  {
   "cell_type": "code",
   "execution_count": 7,
   "metadata": {
    "collapsed": true
   },
   "outputs": [],
   "source": [
    "#Save feature names\n",
    "feature_labels = list(X_train.columns)"
   ]
  },
  {
   "cell_type": "code",
   "execution_count": 8,
   "metadata": {
    "collapsed": true
   },
   "outputs": [],
   "source": [
    "#Convert dataset objects to numpy array\n",
    "X_train = X_train.values\n",
    "X_test = X_test.values\n",
    "y_class_train = y_class_train.values.ravel()\n",
    "y_class_test = y_class_test.values.ravel()\n",
    "y_continuous_train = y_continuous_train.values.ravel()\n",
    "y_continuous_test = y_continuous_test.values.ravel()"
   ]
  },
  {
   "cell_type": "markdown",
   "metadata": {},
   "source": [
    "## Benchmark models"
   ]
  },
  {
   "cell_type": "markdown",
   "metadata": {},
   "source": [
    "### Supervised classification benchmark model\n",
    "\n",
    "The feature dataset has a column named *price_zscore* which will be the basis of the benchmark classifier:\n",
    "\n",
    "* If the *price_zscore* is equal or above zero, then the item's price is above the category mean and it is predicted that the deal is unlikely to happen.\n",
    "\n",
    "* If the *price_zscore* is below zero, then the item's price is below the category mean and it is predicted that the deal is likely to happen.\n",
    "\n",
    "There is no need to setup the training datasets for the classification benchmark because the predictions can be generated without any model fit."
   ]
  },
  {
   "cell_type": "code",
   "execution_count": 9,
   "metadata": {
    "collapsed": true
   },
   "outputs": [],
   "source": [
    "#Buid benchmark feature\n",
    "dataset_x['class_bench_predictor'] = 1.0\n",
    "dataset_x.loc[dataset_x.price_zscore>=0,['class_bench_predictor']] = 0.0\n",
    "#Get predictions and true labels for the classification benchmark\n",
    "y_predicted_test_class_bench = dataset_x.loc[dataset_x.index.isin(test_index), ['class_bench_predictor']].copy()\n",
    "y_true_test_class_bench = dataset_y_class.loc[dataset_y_class.index.isin(test_index),:].copy()"
   ]
  },
  {
   "cell_type": "code",
   "execution_count": 10,
   "metadata": {
    "collapsed": true
   },
   "outputs": [],
   "source": [
    "#Compute F1-Score in the testing subset\n",
    "f1_bench_test = f1_score(y_true_test_class_bench.values,y_predicted_test_class_bench.values)"
   ]
  },
  {
   "cell_type": "code",
   "execution_count": 11,
   "metadata": {},
   "outputs": [
    {
     "name": "stdout",
     "output_type": "stream",
     "text": [
      "0.208259040766\n"
     ]
    }
   ],
   "source": [
    "print(f1_bench_test)"
   ]
  },
  {
   "cell_type": "code",
   "execution_count": 12,
   "metadata": {},
   "outputs": [
    {
     "name": "stdout",
     "output_type": "stream",
     "text": [
      "             precision    recall  f1-score   support\n",
      "\n",
      "        0.0       0.88      0.32      0.46    411497\n",
      "        1.0       0.12      0.69      0.21     56822\n",
      "\n",
      "avg / total       0.79      0.36      0.43    468319\n",
      "\n"
     ]
    }
   ],
   "source": [
    "print(classification_report(y_true_test_class_bench.values,y_predicted_test_class_bench.values))"
   ]
  },
  {
   "cell_type": "markdown",
   "metadata": {},
   "source": [
    "### Supervised regression benchmark model\n",
    "\n",
    "Intuitively, the column *price* should be one of the main drivers of *deal_probability*. Also, it should have a negative relationship with *deal_probability*:\n",
    "\n",
    "* The higher the *price*, the lower the *deal_probability*.\n",
    "* The lower the *price*, the higher the *deal_probability*."
   ]
  },
  {
   "cell_type": "code",
   "execution_count": 13,
   "metadata": {
    "collapsed": true
   },
   "outputs": [],
   "source": [
    "#Create train/test datasets for regression benchmark\n",
    "X_train_reg_bench = dataset_x.loc[dataset_x.index.isin(train_index), ['price']].copy()\n",
    "X_test_reg_bench = dataset_x.loc[dataset_x.index.isin(test_index), ['price']].copy()\n",
    "y_train_reg_bench = dataset_y_continuous.loc[dataset_y_continuous.index.isin(train_index),:].copy()\n",
    "y_true_test_reg_bench = dataset_y_continuous.loc[dataset_y_continuous.index.isin(test_index),:].copy()"
   ]
  },
  {
   "cell_type": "code",
   "execution_count": 14,
   "metadata": {
    "collapsed": true
   },
   "outputs": [],
   "source": [
    "#Define a linear regression object\n",
    "lin_reg = LinearRegression(n_jobs = -1)"
   ]
  },
  {
   "cell_type": "code",
   "execution_count": 15,
   "metadata": {},
   "outputs": [
    {
     "data": {
      "text/plain": [
       "LinearRegression(copy_X=True, fit_intercept=True, n_jobs=-1, normalize=False)"
      ]
     },
     "execution_count": 15,
     "metadata": {},
     "output_type": "execute_result"
    }
   ],
   "source": [
    "#Fit the linear regression model with benchmark data\n",
    "lin_reg.fit(X_train_reg_bench,y_train_reg_bench)"
   ]
  },
  {
   "cell_type": "code",
   "execution_count": 16,
   "metadata": {
    "collapsed": true
   },
   "outputs": [],
   "source": [
    "#Generate predictions for the regression benchmark\n",
    "y_predicted_test_reg_bench = lin_reg.predict(X_test_reg_bench)"
   ]
  },
  {
   "cell_type": "code",
   "execution_count": 17,
   "metadata": {
    "collapsed": true
   },
   "outputs": [],
   "source": [
    "#Compute RMSE for the testing subset\n",
    "rmse_bench_test=np.sqrt(mean_squared_error(y_true = y_true_test_reg_bench.values, y_pred = y_predicted_test_reg_bench))"
   ]
  },
  {
   "cell_type": "code",
   "execution_count": 18,
   "metadata": {},
   "outputs": [
    {
     "name": "stdout",
     "output_type": "stream",
     "text": [
      "0.262776358387\n"
     ]
    }
   ],
   "source": [
    "print(rmse_bench_test)"
   ]
  },
  {
   "cell_type": "markdown",
   "metadata": {},
   "source": [
    "## Supervised classification model development"
   ]
  },
  {
   "cell_type": "markdown",
   "metadata": {},
   "source": [
    "### Initial model comparison with 10-fold cross validation"
   ]
  },
  {
   "cell_type": "code",
   "execution_count": 19,
   "metadata": {
    "collapsed": true
   },
   "outputs": [],
   "source": [
    "#Instantiate models with default settings\n",
    "gnb = GaussianNB()\n",
    "lr = LogisticRegression(random_state = 1)\n",
    "lsvc = svm.LinearSVC(random_state = 1)\n",
    "rfc = RandomForestClassifier(random_state = 1)\n",
    "gbc = GradientBoostingClassifier(random_state = 1)\n",
    "abc = AdaBoostClassifier(random_state = 1)\n",
    "knc = KNeighborsClassifier()"
   ]
  },
  {
   "cell_type": "code",
   "execution_count": 20,
   "metadata": {
    "collapsed": true
   },
   "outputs": [],
   "source": [
    "#Set scoring model\n",
    "scoring_classification = {'f1': make_scorer(f1_score)}"
   ]
  },
  {
   "cell_type": "code",
   "execution_count": 21,
   "metadata": {
    "collapsed": true
   },
   "outputs": [],
   "source": [
    "#Cross-validation with 10 folds\n",
    "cv_gnb=cross_validate(gnb.fit(X_train,y_class_train),X_train,y_class_train,scoring=scoring_classification,cv=10)\n",
    "cv_lr=cross_validate(lr.fit(X_train,y_class_train),X_train,y_class_train,scoring=scoring_classification,cv=10)\n",
    "cv_lsvc=cross_validate(lsvc.fit(X_train,y_class_train),X_train,y_class_train,scoring=scoring_classification,cv=10)\n",
    "cv_rfc=cross_validate(rfc.fit(X_train,y_class_train),X_train,y_class_train,scoring=scoring_classification,cv=10)\n",
    "cv_gbc=cross_validate(gbc.fit(X_train,y_class_train),X_train,y_class_train,scoring=scoring_classification,cv=10)\n",
    "cv_abc=cross_validate(abc.fit(X_train,y_class_train),X_train,y_class_train,scoring=scoring_classification,cv=10)\n",
    "cv_knc=cross_validate(knc.fit(X_train,y_class_train),X_train,y_class_train,scoring=scoring_classification,cv=10)"
   ]
  },
  {
   "cell_type": "code",
   "execution_count": 22,
   "metadata": {
    "collapsed": true
   },
   "outputs": [],
   "source": [
    "#Store validation f1 scores across 10 folds\n",
    "cv_score_gnb = list(cv_gnb['test_f1'])\n",
    "cv_score_lr = list(cv_lr['test_f1'])\n",
    "cv_score_lsvc = list(cv_lsvc['test_f1'])\n",
    "cv_score_rfc = list(cv_rfc['test_f1'])\n",
    "cv_score_gbc = list(cv_gbc['test_f1'])\n",
    "cv_score_abc = list(cv_abc['test_f1'])\n",
    "cv_score_knc = list(cv_knc['test_f1'])"
   ]
  },
  {
   "cell_type": "code",
   "execution_count": 23,
   "metadata": {
    "collapsed": true
   },
   "outputs": [],
   "source": [
    "#Create pandas dataframe that aggregates F1-Scores across folds and classification algorithms\n",
    "cv_score_classifiers = pd.DataFrame({'Benchmark': list([f1_bench_test]*10), 'Gaussian Naive Bayes':cv_score_gnb,'Logistic Regression':cv_score_lr,'Linear SVC':cv_score_lsvc, 'Random Forest Classifier':cv_score_rfc, 'Gradient Boosting Classifier':cv_score_gbc,'AdaBoost Classifier': cv_score_abc, 'KNN Classifier':cv_score_knc})\n",
    "cv_score_classifiers.index = range(1,11)"
   ]
  },
  {
   "cell_type": "code",
   "execution_count": 24,
   "metadata": {},
   "outputs": [
    {
     "data": {
      "text/html": [
       "<div>\n",
       "<style scoped>\n",
       "    .dataframe tbody tr th:only-of-type {\n",
       "        vertical-align: middle;\n",
       "    }\n",
       "\n",
       "    .dataframe tbody tr th {\n",
       "        vertical-align: top;\n",
       "    }\n",
       "\n",
       "    .dataframe thead th {\n",
       "        text-align: right;\n",
       "    }\n",
       "</style>\n",
       "<table border=\"1\" class=\"dataframe\">\n",
       "  <thead>\n",
       "    <tr style=\"text-align: right;\">\n",
       "      <th></th>\n",
       "      <th>AdaBoost Classifier</th>\n",
       "      <th>Benchmark</th>\n",
       "      <th>Gaussian Naive Bayes</th>\n",
       "      <th>Gradient Boosting Classifier</th>\n",
       "      <th>KNN Classifier</th>\n",
       "      <th>Linear SVC</th>\n",
       "      <th>Logistic Regression</th>\n",
       "      <th>Random Forest Classifier</th>\n",
       "    </tr>\n",
       "  </thead>\n",
       "  <tbody>\n",
       "    <tr>\n",
       "      <th>1</th>\n",
       "      <td>0.051992</td>\n",
       "      <td>0.208259</td>\n",
       "      <td>0.348505</td>\n",
       "      <td>0.035120</td>\n",
       "      <td>0.149559</td>\n",
       "      <td>0.121898</td>\n",
       "      <td>0.023697</td>\n",
       "      <td>0.140808</td>\n",
       "    </tr>\n",
       "    <tr>\n",
       "      <th>2</th>\n",
       "      <td>0.063548</td>\n",
       "      <td>0.208259</td>\n",
       "      <td>0.348281</td>\n",
       "      <td>0.031775</td>\n",
       "      <td>0.157278</td>\n",
       "      <td>0.010036</td>\n",
       "      <td>0.015333</td>\n",
       "      <td>0.148371</td>\n",
       "    </tr>\n",
       "    <tr>\n",
       "      <th>3</th>\n",
       "      <td>0.059764</td>\n",
       "      <td>0.208259</td>\n",
       "      <td>0.347017</td>\n",
       "      <td>0.029490</td>\n",
       "      <td>0.150530</td>\n",
       "      <td>0.206037</td>\n",
       "      <td>0.010954</td>\n",
       "      <td>0.149794</td>\n",
       "    </tr>\n",
       "    <tr>\n",
       "      <th>4</th>\n",
       "      <td>0.068298</td>\n",
       "      <td>0.208259</td>\n",
       "      <td>0.344090</td>\n",
       "      <td>0.031347</td>\n",
       "      <td>0.153725</td>\n",
       "      <td>0.181827</td>\n",
       "      <td>0.014634</td>\n",
       "      <td>0.141804</td>\n",
       "    </tr>\n",
       "    <tr>\n",
       "      <th>5</th>\n",
       "      <td>0.066964</td>\n",
       "      <td>0.208259</td>\n",
       "      <td>0.346889</td>\n",
       "      <td>0.037240</td>\n",
       "      <td>0.153513</td>\n",
       "      <td>0.170667</td>\n",
       "      <td>0.006296</td>\n",
       "      <td>0.147379</td>\n",
       "    </tr>\n",
       "    <tr>\n",
       "      <th>6</th>\n",
       "      <td>0.068331</td>\n",
       "      <td>0.208259</td>\n",
       "      <td>0.345524</td>\n",
       "      <td>0.031081</td>\n",
       "      <td>0.147565</td>\n",
       "      <td>0.250901</td>\n",
       "      <td>0.013465</td>\n",
       "      <td>0.133130</td>\n",
       "    </tr>\n",
       "    <tr>\n",
       "      <th>7</th>\n",
       "      <td>0.071491</td>\n",
       "      <td>0.208259</td>\n",
       "      <td>0.341215</td>\n",
       "      <td>0.038528</td>\n",
       "      <td>0.158132</td>\n",
       "      <td>0.069607</td>\n",
       "      <td>0.012113</td>\n",
       "      <td>0.137659</td>\n",
       "    </tr>\n",
       "    <tr>\n",
       "      <th>8</th>\n",
       "      <td>0.050653</td>\n",
       "      <td>0.208259</td>\n",
       "      <td>0.340559</td>\n",
       "      <td>0.036026</td>\n",
       "      <td>0.148772</td>\n",
       "      <td>0.005974</td>\n",
       "      <td>0.016189</td>\n",
       "      <td>0.148208</td>\n",
       "    </tr>\n",
       "    <tr>\n",
       "      <th>9</th>\n",
       "      <td>0.052097</td>\n",
       "      <td>0.208259</td>\n",
       "      <td>0.347760</td>\n",
       "      <td>0.031225</td>\n",
       "      <td>0.149922</td>\n",
       "      <td>0.104537</td>\n",
       "      <td>0.001412</td>\n",
       "      <td>0.135192</td>\n",
       "    </tr>\n",
       "    <tr>\n",
       "      <th>10</th>\n",
       "      <td>0.051550</td>\n",
       "      <td>0.208259</td>\n",
       "      <td>0.341712</td>\n",
       "      <td>0.030872</td>\n",
       "      <td>0.150481</td>\n",
       "      <td>0.125679</td>\n",
       "      <td>0.040968</td>\n",
       "      <td>0.132793</td>\n",
       "    </tr>\n",
       "  </tbody>\n",
       "</table>\n",
       "</div>"
      ],
      "text/plain": [
       "    AdaBoost Classifier  Benchmark  Gaussian Naive Bayes  \\\n",
       "1              0.051992   0.208259              0.348505   \n",
       "2              0.063548   0.208259              0.348281   \n",
       "3              0.059764   0.208259              0.347017   \n",
       "4              0.068298   0.208259              0.344090   \n",
       "5              0.066964   0.208259              0.346889   \n",
       "6              0.068331   0.208259              0.345524   \n",
       "7              0.071491   0.208259              0.341215   \n",
       "8              0.050653   0.208259              0.340559   \n",
       "9              0.052097   0.208259              0.347760   \n",
       "10             0.051550   0.208259              0.341712   \n",
       "\n",
       "    Gradient Boosting Classifier  KNN Classifier  Linear SVC  \\\n",
       "1                       0.035120        0.149559    0.121898   \n",
       "2                       0.031775        0.157278    0.010036   \n",
       "3                       0.029490        0.150530    0.206037   \n",
       "4                       0.031347        0.153725    0.181827   \n",
       "5                       0.037240        0.153513    0.170667   \n",
       "6                       0.031081        0.147565    0.250901   \n",
       "7                       0.038528        0.158132    0.069607   \n",
       "8                       0.036026        0.148772    0.005974   \n",
       "9                       0.031225        0.149922    0.104537   \n",
       "10                      0.030872        0.150481    0.125679   \n",
       "\n",
       "    Logistic Regression  Random Forest Classifier  \n",
       "1              0.023697                  0.140808  \n",
       "2              0.015333                  0.148371  \n",
       "3              0.010954                  0.149794  \n",
       "4              0.014634                  0.141804  \n",
       "5              0.006296                  0.147379  \n",
       "6              0.013465                  0.133130  \n",
       "7              0.012113                  0.137659  \n",
       "8              0.016189                  0.148208  \n",
       "9              0.001412                  0.135192  \n",
       "10             0.040968                  0.132793  "
      ]
     },
     "execution_count": 24,
     "metadata": {},
     "output_type": "execute_result"
    }
   ],
   "source": [
    "cv_score_classifiers"
   ]
  },
  {
   "cell_type": "code",
   "execution_count": 85,
   "metadata": {},
   "outputs": [
    {
     "data": {
      "image/png": "[encoded data removed]",
      "text/plain": [
       "<matplotlib.figure.Figure at 0x1dd068620f0>"
      ]
     },
     "metadata": {},
     "output_type": "display_data"
    }
   ],
   "source": [
    "#Plot F1-Score across folds and algorithms\n",
    "cv_score_classifiers.plot(figsize = (6,5));\n",
    "plt.title('Supervised Classification - F1 Score across 10 folds')\n",
    "plt.legend(loc = 9, bbox_to_anchor=(0.5, -0.1), ncol = 4);\n",
    "plt.ylabel('F1 Score');\n",
    "plt.xlabel('$K^{th}$ Fold');"
   ]
  },
  {
   "cell_type": "code",
   "execution_count": 26,
   "metadata": {},
   "outputs": [
    {
     "data": {
      "text/html": [
       "<div>\n",
       "<style scoped>\n",
       "    .dataframe tbody tr th:only-of-type {\n",
       "        vertical-align: middle;\n",
       "    }\n",
       "\n",
       "    .dataframe tbody tr th {\n",
       "        vertical-align: top;\n",
       "    }\n",
       "\n",
       "    .dataframe thead th {\n",
       "        text-align: right;\n",
       "    }\n",
       "</style>\n",
       "<table border=\"1\" class=\"dataframe\">\n",
       "  <thead>\n",
       "    <tr style=\"text-align: right;\">\n",
       "      <th></th>\n",
       "      <th>AdaBoost Classifier</th>\n",
       "      <th>Benchmark</th>\n",
       "      <th>Gaussian Naive Bayes</th>\n",
       "      <th>Gradient Boosting Classifier</th>\n",
       "      <th>KNN Classifier</th>\n",
       "      <th>Linear SVC</th>\n",
       "      <th>Logistic Regression</th>\n",
       "      <th>Random Forest Classifier</th>\n",
       "    </tr>\n",
       "  </thead>\n",
       "  <tbody>\n",
       "    <tr>\n",
       "      <th>count</th>\n",
       "      <td>10.000000</td>\n",
       "      <td>1.000000e+01</td>\n",
       "      <td>10.000000</td>\n",
       "      <td>10.000000</td>\n",
       "      <td>10.000000</td>\n",
       "      <td>10.000000</td>\n",
       "      <td>10.000000</td>\n",
       "      <td>10.000000</td>\n",
       "    </tr>\n",
       "    <tr>\n",
       "      <th>mean</th>\n",
       "      <td>0.060469</td>\n",
       "      <td>2.082590e-01</td>\n",
       "      <td>0.345155</td>\n",
       "      <td>0.033270</td>\n",
       "      <td>0.151948</td>\n",
       "      <td>0.124716</td>\n",
       "      <td>0.015506</td>\n",
       "      <td>0.141514</td>\n",
       "    </tr>\n",
       "    <tr>\n",
       "      <th>std</th>\n",
       "      <td>0.008264</td>\n",
       "      <td>2.925695e-17</td>\n",
       "      <td>0.003056</td>\n",
       "      <td>0.003151</td>\n",
       "      <td>0.003583</td>\n",
       "      <td>0.080701</td>\n",
       "      <td>0.010732</td>\n",
       "      <td>0.006638</td>\n",
       "    </tr>\n",
       "    <tr>\n",
       "      <th>min</th>\n",
       "      <td>0.050653</td>\n",
       "      <td>2.082590e-01</td>\n",
       "      <td>0.340559</td>\n",
       "      <td>0.029490</td>\n",
       "      <td>0.147565</td>\n",
       "      <td>0.005974</td>\n",
       "      <td>0.001412</td>\n",
       "      <td>0.132793</td>\n",
       "    </tr>\n",
       "    <tr>\n",
       "      <th>25%</th>\n",
       "      <td>0.052018</td>\n",
       "      <td>2.082590e-01</td>\n",
       "      <td>0.342306</td>\n",
       "      <td>0.031117</td>\n",
       "      <td>0.149649</td>\n",
       "      <td>0.078340</td>\n",
       "      <td>0.011244</td>\n",
       "      <td>0.135809</td>\n",
       "    </tr>\n",
       "    <tr>\n",
       "      <th>50%</th>\n",
       "      <td>0.061656</td>\n",
       "      <td>2.082590e-01</td>\n",
       "      <td>0.346206</td>\n",
       "      <td>0.031561</td>\n",
       "      <td>0.150506</td>\n",
       "      <td>0.123789</td>\n",
       "      <td>0.014050</td>\n",
       "      <td>0.141306</td>\n",
       "    </tr>\n",
       "    <tr>\n",
       "      <th>75%</th>\n",
       "      <td>0.067964</td>\n",
       "      <td>2.082590e-01</td>\n",
       "      <td>0.347574</td>\n",
       "      <td>0.035799</td>\n",
       "      <td>0.153672</td>\n",
       "      <td>0.179037</td>\n",
       "      <td>0.015975</td>\n",
       "      <td>0.148000</td>\n",
       "    </tr>\n",
       "    <tr>\n",
       "      <th>max</th>\n",
       "      <td>0.071491</td>\n",
       "      <td>2.082590e-01</td>\n",
       "      <td>0.348505</td>\n",
       "      <td>0.038528</td>\n",
       "      <td>0.158132</td>\n",
       "      <td>0.250901</td>\n",
       "      <td>0.040968</td>\n",
       "      <td>0.149794</td>\n",
       "    </tr>\n",
       "  </tbody>\n",
       "</table>\n",
       "</div>"
      ],
      "text/plain": [
       "       AdaBoost Classifier     Benchmark  Gaussian Naive Bayes  \\\n",
       "count            10.000000  1.000000e+01             10.000000   \n",
       "mean              0.060469  2.082590e-01              0.345155   \n",
       "std               0.008264  2.925695e-17              0.003056   \n",
       "min               0.050653  2.082590e-01              0.340559   \n",
       "25%               0.052018  2.082590e-01              0.342306   \n",
       "50%               0.061656  2.082590e-01              0.346206   \n",
       "75%               0.067964  2.082590e-01              0.347574   \n",
       "max               0.071491  2.082590e-01              0.348505   \n",
       "\n",
       "       Gradient Boosting Classifier  KNN Classifier  Linear SVC  \\\n",
       "count                     10.000000       10.000000   10.000000   \n",
       "mean                       0.033270        0.151948    0.124716   \n",
       "std                        0.003151        0.003583    0.080701   \n",
       "min                        0.029490        0.147565    0.005974   \n",
       "25%                        0.031117        0.149649    0.078340   \n",
       "50%                        0.031561        0.150506    0.123789   \n",
       "75%                        0.035799        0.153672    0.179037   \n",
       "max                        0.038528        0.158132    0.250901   \n",
       "\n",
       "       Logistic Regression  Random Forest Classifier  \n",
       "count            10.000000                 10.000000  \n",
       "mean              0.015506                  0.141514  \n",
       "std               0.010732                  0.006638  \n",
       "min               0.001412                  0.132793  \n",
       "25%               0.011244                  0.135809  \n",
       "50%               0.014050                  0.141306  \n",
       "75%               0.015975                  0.148000  \n",
       "max               0.040968                  0.149794  "
      ]
     },
     "execution_count": 26,
     "metadata": {},
     "output_type": "execute_result"
    }
   ],
   "source": [
    "#Generate statistics on F1-Score across folds and algorithms\n",
    "cv_score_classifiers.describe()"
   ]
  },
  {
   "cell_type": "markdown",
   "metadata": {},
   "source": [
    "The initial results in the supervised classification problem suggest that a simpler model is more robust. The best model across all 10 folds is the Gaussian Naive Bayes (average F1 score of 0.35 across 10 validation folds).\n",
    "\n",
    "The Gaussian Naive Bayes does not have hyper-parameters to tune so an optimization of hyper-parameters is not followed here. The reason for not picking other models is because the other models have more degrees of freedom and can add more complexity, resulting in better fits. However, the cross validation analysis was done in order to identify robust models which perform well out-of-sample. This analysis showed that the Gaussian Naive Bayes is the only one to incorporate those characteristics (on a relative basis)."
   ]
  },
  {
   "cell_type": "markdown",
   "metadata": {},
   "source": [
    "\n",
    "### Supervised classification best model out-of-sample evaluation"
   ]
  },
  {
   "cell_type": "code",
   "execution_count": 27,
   "metadata": {},
   "outputs": [
    {
     "data": {
      "text/plain": [
       "GaussianNB(priors=None)"
      ]
     },
     "execution_count": 27,
     "metadata": {},
     "output_type": "execute_result"
    }
   ],
   "source": [
    "#Train Gaussian Naive Bayes model\n",
    "gnb = GaussianNB()\n",
    "gnb.fit(X_train, y_class_train)"
   ]
  },
  {
   "cell_type": "code",
   "execution_count": 28,
   "metadata": {
    "collapsed": true
   },
   "outputs": [],
   "source": [
    "#Create predictions on test dataset\n",
    "gnb_test_preds = gnb.predict(X_test)"
   ]
  },
  {
   "cell_type": "code",
   "execution_count": 29,
   "metadata": {},
   "outputs": [
    {
     "name": "stdout",
     "output_type": "stream",
     "text": [
      "0.346359643435\n",
      "             precision    recall  f1-score   support\n",
      "\n",
      "        0.0       0.92      0.78      0.85    411497\n",
      "        1.0       0.25      0.54      0.35     56822\n",
      "\n",
      "avg / total       0.84      0.75      0.79    468319\n",
      "\n"
     ]
    }
   ],
   "source": [
    "#Evaluate F1 Score in testing dataset\n",
    "print(f1_score(y_class_test, gnb_test_preds))\n",
    "print(classification_report(y_class_test, gnb_test_preds))"
   ]
  },
  {
   "cell_type": "markdown",
   "metadata": {},
   "source": [
    "Note that the F1 Score on the testing dataset maintains the F1 Score level from the cross validation exercise (around the 0.35 level). This is a robust model that is fast and easy to train. Sometimes, complexity does not work, as in this case."
   ]
  },
  {
   "cell_type": "code",
   "execution_count": 30,
   "metadata": {},
   "outputs": [
    {
     "name": "stdout",
     "output_type": "stream",
     "text": [
      "Confusion matrix, without normalization\n",
      "[[321675  89822]\n",
      " [ 26107  30715]]\n",
      "Normalized confusion matrix\n",
      "[[ 0.78  0.22]\n",
      " [ 0.46  0.54]]\n"
     ]
    },
    {
     "data": {
      "image/png": "[encoded data removed]",
      "text/plain": [
       "<matplotlib.figure.Figure at 0x1dd00793c18>"
      ]
     },
     "metadata": {},
     "output_type": "display_data"
    },
    {
     "data": {
      "image/png": "[encoded data removed]",
      "text/plain": [
       "<matplotlib.figure.Figure at 0x1dd060a3ac8>"
      ]
     },
     "metadata": {},
     "output_type": "display_data"
    }
   ],
   "source": [
    "class_names = ['Unlikely','Likely']\n",
    "#The following function was extracted from the scikit-learn website:\n",
    "#http://scikit-learn.org/stable/auto_examples/model_selection/plot_confusion_matrix.html#sphx-glr-auto-examples-model-selection-plot-confusion-matrix-py\n",
    "    \n",
    "def plot_confusion_matrix(cm, classes,\n",
    "                          normalize=False,\n",
    "                          title='Confusion matrix',\n",
    "                          cmap=plt.cm.Blues):\n",
    "    \"\"\"\n",
    "    This function prints and plots the confusion matrix.\n",
    "    Normalization can be applied by setting `normalize=True`.\n",
    "    \"\"\"\n",
    "    if normalize:\n",
    "        cm = cm.astype('float') / cm.sum(axis=1)[:, np.newaxis]\n",
    "        print(\"Normalized confusion matrix\")\n",
    "    else:\n",
    "        print('Confusion matrix, without normalization')\n",
    "\n",
    "    print(cm)\n",
    "\n",
    "    plt.imshow(cm, interpolation='nearest', cmap=cmap)\n",
    "    plt.title(title)\n",
    "    plt.colorbar()\n",
    "    tick_marks = np.arange(len(classes))\n",
    "    plt.xticks(tick_marks, classes, rotation=45)\n",
    "    plt.yticks(tick_marks, classes)\n",
    "\n",
    "    fmt = '.2f' if normalize else 'd'\n",
    "    thresh = cm.max() / 2.\n",
    "    for i, j in itertools.product(range(cm.shape[0]), range(cm.shape[1])):\n",
    "        plt.text(j, i, format(cm[i, j], fmt),\n",
    "                 horizontalalignment=\"center\",\n",
    "                 color=\"white\" if cm[i, j] > thresh else \"black\")\n",
    "\n",
    "    plt.tight_layout()\n",
    "    plt.ylabel('True label')\n",
    "    plt.xlabel('Predicted label')\n",
    "\n",
    "# Compute confusion matrix\n",
    "cnf_matrix = confusion_matrix(y_class_test, gnb_test_preds)\n",
    "np.set_printoptions(precision=2)\n",
    "\n",
    "# Plot non-normalized confusion matrix\n",
    "plt.figure()\n",
    "plot_confusion_matrix(cnf_matrix, classes=class_names,\n",
    "                      title='Confusion matrix, without normalization')\n",
    "\n",
    "# Plot normalized confusion matrix\n",
    "plt.figure()\n",
    "plot_confusion_matrix(cnf_matrix, classes=class_names, normalize=True,\n",
    "                      title='Normalized confusion matrix')\n",
    "\n",
    "plt.show()"
   ]
  },
  {
   "cell_type": "markdown",
   "metadata": {},
   "source": [
    "Looking at the confusion matrix, it is clear that  due to the target inbalance (411,497 *Unlikely* deals and 56,822 *Likely* deals), the Gaussian Naive Bayes achieves a higher recall and precision values for *Unlikely* vs. the *Likely* labels."
   ]
  },
  {
   "cell_type": "markdown",
   "metadata": {},
   "source": [
    "## Supervised regression model development"
   ]
  },
  {
   "cell_type": "markdown",
   "metadata": {},
   "source": [
    "### Initial model comparison with 10-fold cross validation"
   ]
  },
  {
   "cell_type": "code",
   "execution_count": 31,
   "metadata": {
    "collapsed": true
   },
   "outputs": [],
   "source": [
    "#Instantiate models with default settings\n",
    "lreg = LinearRegression()\n",
    "lassoreg = Lasso(random_state = 1)\n",
    "rr = Ridge(random_state = 1, solver = 'auto')\n",
    "gbr = GradientBoostingRegressor(random_state = 1, max_features = 10)\n",
    "mlp = MLPRegressor(random_state = 1, hidden_layer_sizes = (10,10,10), max_iter = 500)"
   ]
  },
  {
   "cell_type": "code",
   "execution_count": 32,
   "metadata": {
    "collapsed": true
   },
   "outputs": [],
   "source": [
    "#Set scoring model\n",
    "scoring_regression = {'mse': make_scorer(mean_squared_error)}"
   ]
  },
  {
   "cell_type": "code",
   "execution_count": 33,
   "metadata": {
    "collapsed": true,
    "scrolled": true
   },
   "outputs": [],
   "source": [
    "#Cross validation with 10 folds\n",
    "cv_lreg=cross_validate(lreg.fit(X_train,y_continuous_train),X_train,y_continuous_train,scoring=scoring_regression,cv=10)\n",
    "cv_lassoreg=cross_validate(lassoreg.fit(X_train,y_continuous_train),X_train,y_continuous_train,scoring=scoring_regression,cv=10)\n",
    "cv_rr=cross_validate(rr.fit(X_train,y_continuous_train),X_train,y_continuous_train,scoring=scoring_regression,cv=10)\n",
    "cv_gbr=cross_validate(gbr.fit(X_train,y_continuous_train),X_train,y_continuous_train,scoring=scoring_regression,cv=10)\n",
    "cv_mlp=cross_validate(mlp.fit(X_train,y_continuous_train),X_train,y_continuous_train,scoring=scoring_regression,cv=10)"
   ]
  },
  {
   "cell_type": "code",
   "execution_count": 34,
   "metadata": {
    "collapsed": true
   },
   "outputs": [],
   "source": [
    "#Store validation f1 scores across 10 folds and convert MSE to RMSE\n",
    "cv_score_lreg = list(cv_lreg['test_mse'])\n",
    "cv_score_lreg = np.sqrt(cv_score_lreg)\n",
    "cv_score_lassoreg = list(cv_lassoreg['test_mse'])\n",
    "cv_score_lassoreg = np.sqrt(cv_score_lassoreg)\n",
    "cv_score_rr = list(cv_rr['test_mse'])\n",
    "cv_score_rr = np.sqrt(cv_score_rr)\n",
    "cv_score_gbr = list(cv_gbr['test_mse'])\n",
    "cv_score_gbr = np.sqrt(cv_score_gbr)\n",
    "cv_score_mlp = list(cv_mlp['test_mse'])\n",
    "cv_score_mlp = np.sqrt(cv_score_mlp)"
   ]
  },
  {
   "cell_type": "code",
   "execution_count": 35,
   "metadata": {},
   "outputs": [
    {
     "data": {
      "text/html": [
       "<div>\n",
       "<style scoped>\n",
       "    .dataframe tbody tr th:only-of-type {\n",
       "        vertical-align: middle;\n",
       "    }\n",
       "\n",
       "    .dataframe tbody tr th {\n",
       "        vertical-align: top;\n",
       "    }\n",
       "\n",
       "    .dataframe thead th {\n",
       "        text-align: right;\n",
       "    }\n",
       "</style>\n",
       "<table border=\"1\" class=\"dataframe\">\n",
       "  <thead>\n",
       "    <tr style=\"text-align: right;\">\n",
       "      <th></th>\n",
       "      <th>Benchmark</th>\n",
       "      <th>Gradient Boosting Regressor</th>\n",
       "      <th>Lasso Regression</th>\n",
       "      <th>Linear Regression</th>\n",
       "      <th>Multi-layer Perceptron Regressor</th>\n",
       "      <th>Ridge Regression</th>\n",
       "    </tr>\n",
       "  </thead>\n",
       "  <tbody>\n",
       "    <tr>\n",
       "      <th>1</th>\n",
       "      <td>0.262776</td>\n",
       "      <td>0.241354</td>\n",
       "      <td>0.257697</td>\n",
       "      <td>0.242828</td>\n",
       "      <td>0.243564</td>\n",
       "      <td>0.242828</td>\n",
       "    </tr>\n",
       "    <tr>\n",
       "      <th>2</th>\n",
       "      <td>0.262776</td>\n",
       "      <td>0.242822</td>\n",
       "      <td>0.259277</td>\n",
       "      <td>0.244100</td>\n",
       "      <td>0.246941</td>\n",
       "      <td>0.244100</td>\n",
       "    </tr>\n",
       "    <tr>\n",
       "      <th>3</th>\n",
       "      <td>0.262776</td>\n",
       "      <td>0.242922</td>\n",
       "      <td>0.258895</td>\n",
       "      <td>0.244744</td>\n",
       "      <td>0.248249</td>\n",
       "      <td>0.244744</td>\n",
       "    </tr>\n",
       "    <tr>\n",
       "      <th>4</th>\n",
       "      <td>0.262776</td>\n",
       "      <td>0.242543</td>\n",
       "      <td>0.258466</td>\n",
       "      <td>0.244044</td>\n",
       "      <td>0.263566</td>\n",
       "      <td>0.244044</td>\n",
       "    </tr>\n",
       "    <tr>\n",
       "      <th>5</th>\n",
       "      <td>0.262776</td>\n",
       "      <td>0.242753</td>\n",
       "      <td>0.258544</td>\n",
       "      <td>0.244450</td>\n",
       "      <td>0.246546</td>\n",
       "      <td>0.244450</td>\n",
       "    </tr>\n",
       "    <tr>\n",
       "      <th>6</th>\n",
       "      <td>0.262776</td>\n",
       "      <td>0.242964</td>\n",
       "      <td>0.258828</td>\n",
       "      <td>0.244759</td>\n",
       "      <td>0.248780</td>\n",
       "      <td>0.244759</td>\n",
       "    </tr>\n",
       "    <tr>\n",
       "      <th>7</th>\n",
       "      <td>0.262776</td>\n",
       "      <td>0.242524</td>\n",
       "      <td>0.258452</td>\n",
       "      <td>0.243906</td>\n",
       "      <td>0.245861</td>\n",
       "      <td>0.243906</td>\n",
       "    </tr>\n",
       "    <tr>\n",
       "      <th>8</th>\n",
       "      <td>0.262776</td>\n",
       "      <td>0.241902</td>\n",
       "      <td>0.258088</td>\n",
       "      <td>0.243404</td>\n",
       "      <td>0.245936</td>\n",
       "      <td>0.243404</td>\n",
       "    </tr>\n",
       "    <tr>\n",
       "      <th>9</th>\n",
       "      <td>0.262776</td>\n",
       "      <td>0.241520</td>\n",
       "      <td>0.257155</td>\n",
       "      <td>0.243117</td>\n",
       "      <td>0.243765</td>\n",
       "      <td>0.243117</td>\n",
       "    </tr>\n",
       "    <tr>\n",
       "      <th>10</th>\n",
       "      <td>0.262776</td>\n",
       "      <td>0.241344</td>\n",
       "      <td>0.256942</td>\n",
       "      <td>0.242784</td>\n",
       "      <td>0.262127</td>\n",
       "      <td>0.242783</td>\n",
       "    </tr>\n",
       "  </tbody>\n",
       "</table>\n",
       "</div>"
      ],
      "text/plain": [
       "    Benchmark  Gradient Boosting Regressor  Lasso Regression  \\\n",
       "1    0.262776                     0.241354          0.257697   \n",
       "2    0.262776                     0.242822          0.259277   \n",
       "3    0.262776                     0.242922          0.258895   \n",
       "4    0.262776                     0.242543          0.258466   \n",
       "5    0.262776                     0.242753          0.258544   \n",
       "6    0.262776                     0.242964          0.258828   \n",
       "7    0.262776                     0.242524          0.258452   \n",
       "8    0.262776                     0.241902          0.258088   \n",
       "9    0.262776                     0.241520          0.257155   \n",
       "10   0.262776                     0.241344          0.256942   \n",
       "\n",
       "    Linear Regression  Multi-layer Perceptron Regressor  Ridge Regression  \n",
       "1            0.242828                          0.243564          0.242828  \n",
       "2            0.244100                          0.246941          0.244100  \n",
       "3            0.244744                          0.248249          0.244744  \n",
       "4            0.244044                          0.263566          0.244044  \n",
       "5            0.244450                          0.246546          0.244450  \n",
       "6            0.244759                          0.248780          0.244759  \n",
       "7            0.243906                          0.245861          0.243906  \n",
       "8            0.243404                          0.245936          0.243404  \n",
       "9            0.243117                          0.243765          0.243117  \n",
       "10           0.242784                          0.262127          0.242783  "
      ]
     },
     "execution_count": 35,
     "metadata": {},
     "output_type": "execute_result"
    }
   ],
   "source": [
    "#Create pandas dataframe with aggregation of RMSE across folds and regression algorithms\n",
    "cv_score_regressions=pd.DataFrame({'Benchmark':list([rmse_bench_test]*10),'Linear Regression':cv_score_lreg,'Lasso Regression':cv_score_lassoreg,'Ridge Regression':cv_score_rr,'Gradient Boosting Regressor':cv_score_gbr,'Multi-layer Perceptron Regressor':cv_score_mlp})\n",
    "cv_score_regressions.index = range(1,11)\n",
    "cv_score_regressions"
   ]
  },
  {
   "cell_type": "code",
   "execution_count": 86,
   "metadata": {},
   "outputs": [
    {
     "data": {
      "image/png": "[encoded data removed]",
      "text/plain": [
       "<matplotlib.figure.Figure at 0x1dd078554a8>"
      ]
     },
     "metadata": {},
     "output_type": "display_data"
    }
   ],
   "source": [
    "#Plot RMSE across folds and regression algorithms\n",
    "cv_score_regressions.plot(figsize = (6,5));\n",
    "plt.title('Supervised Regression - Root Mean Squared Errors (RMSE) across 10 folds')\n",
    "plt.legend(loc = 9, bbox_to_anchor=(0.5, -0.1), ncol = 4);\n",
    "plt.ylabel('RMSE');\n",
    "plt.xlabel('$K^{th}$ Fold');"
   ]
  },
  {
   "cell_type": "code",
   "execution_count": 37,
   "metadata": {},
   "outputs": [
    {
     "data": {
      "text/html": [
       "<div>\n",
       "<style scoped>\n",
       "    .dataframe tbody tr th:only-of-type {\n",
       "        vertical-align: middle;\n",
       "    }\n",
       "\n",
       "    .dataframe tbody tr th {\n",
       "        vertical-align: top;\n",
       "    }\n",
       "\n",
       "    .dataframe thead th {\n",
       "        text-align: right;\n",
       "    }\n",
       "</style>\n",
       "<table border=\"1\" class=\"dataframe\">\n",
       "  <thead>\n",
       "    <tr style=\"text-align: right;\">\n",
       "      <th></th>\n",
       "      <th>Benchmark</th>\n",
       "      <th>Gradient Boosting Regressor</th>\n",
       "      <th>Lasso Regression</th>\n",
       "      <th>Linear Regression</th>\n",
       "      <th>Multi-layer Perceptron Regressor</th>\n",
       "      <th>Ridge Regression</th>\n",
       "    </tr>\n",
       "  </thead>\n",
       "  <tbody>\n",
       "    <tr>\n",
       "      <th>count</th>\n",
       "      <td>10.000000</td>\n",
       "      <td>10.000000</td>\n",
       "      <td>10.000000</td>\n",
       "      <td>10.000000</td>\n",
       "      <td>10.000000</td>\n",
       "      <td>10.000000</td>\n",
       "    </tr>\n",
       "    <tr>\n",
       "      <th>mean</th>\n",
       "      <td>0.262776</td>\n",
       "      <td>0.242265</td>\n",
       "      <td>0.258234</td>\n",
       "      <td>0.243813</td>\n",
       "      <td>0.249533</td>\n",
       "      <td>0.243813</td>\n",
       "    </tr>\n",
       "    <tr>\n",
       "      <th>std</th>\n",
       "      <td>0.000000</td>\n",
       "      <td>0.000665</td>\n",
       "      <td>0.000761</td>\n",
       "      <td>0.000745</td>\n",
       "      <td>0.007217</td>\n",
       "      <td>0.000745</td>\n",
       "    </tr>\n",
       "    <tr>\n",
       "      <th>min</th>\n",
       "      <td>0.262776</td>\n",
       "      <td>0.241344</td>\n",
       "      <td>0.256942</td>\n",
       "      <td>0.242784</td>\n",
       "      <td>0.243564</td>\n",
       "      <td>0.242783</td>\n",
       "    </tr>\n",
       "    <tr>\n",
       "      <th>25%</th>\n",
       "      <td>0.262776</td>\n",
       "      <td>0.241616</td>\n",
       "      <td>0.257794</td>\n",
       "      <td>0.243189</td>\n",
       "      <td>0.245880</td>\n",
       "      <td>0.243189</td>\n",
       "    </tr>\n",
       "    <tr>\n",
       "      <th>50%</th>\n",
       "      <td>0.262776</td>\n",
       "      <td>0.242533</td>\n",
       "      <td>0.258459</td>\n",
       "      <td>0.243975</td>\n",
       "      <td>0.246743</td>\n",
       "      <td>0.243975</td>\n",
       "    </tr>\n",
       "    <tr>\n",
       "      <th>75%</th>\n",
       "      <td>0.262776</td>\n",
       "      <td>0.242805</td>\n",
       "      <td>0.258757</td>\n",
       "      <td>0.244362</td>\n",
       "      <td>0.248647</td>\n",
       "      <td>0.244362</td>\n",
       "    </tr>\n",
       "    <tr>\n",
       "      <th>max</th>\n",
       "      <td>0.262776</td>\n",
       "      <td>0.242964</td>\n",
       "      <td>0.259277</td>\n",
       "      <td>0.244759</td>\n",
       "      <td>0.263566</td>\n",
       "      <td>0.244759</td>\n",
       "    </tr>\n",
       "  </tbody>\n",
       "</table>\n",
       "</div>"
      ],
      "text/plain": [
       "       Benchmark  Gradient Boosting Regressor  Lasso Regression  \\\n",
       "count  10.000000                    10.000000         10.000000   \n",
       "mean    0.262776                     0.242265          0.258234   \n",
       "std     0.000000                     0.000665          0.000761   \n",
       "min     0.262776                     0.241344          0.256942   \n",
       "25%     0.262776                     0.241616          0.257794   \n",
       "50%     0.262776                     0.242533          0.258459   \n",
       "75%     0.262776                     0.242805          0.258757   \n",
       "max     0.262776                     0.242964          0.259277   \n",
       "\n",
       "       Linear Regression  Multi-layer Perceptron Regressor  Ridge Regression  \n",
       "count          10.000000                         10.000000         10.000000  \n",
       "mean            0.243813                          0.249533          0.243813  \n",
       "std             0.000745                          0.007217          0.000745  \n",
       "min             0.242784                          0.243564          0.242783  \n",
       "25%             0.243189                          0.245880          0.243189  \n",
       "50%             0.243975                          0.246743          0.243975  \n",
       "75%             0.244362                          0.248647          0.244362  \n",
       "max             0.244759                          0.263566          0.244759  "
      ]
     },
     "execution_count": 37,
     "metadata": {},
     "output_type": "execute_result"
    }
   ],
   "source": [
    "#Generate RMSE statistics across folds and regression algorithms\n",
    "cv_score_regressions.describe()"
   ]
  },
  {
   "cell_type": "markdown",
   "metadata": {},
   "source": [
    "### Best regression model tuning\n",
    "\n",
    "The previous cross validation exercise among 5 regression algorithms - using default hyper-parameters - showed that the lowest RMSE is achieved within the following algorithms:\n",
    "\n",
    "* Linear Regression\n",
    "* Gradient Boosting Regressor\n",
    "\n",
    "From the previous two models, only the Gradient Boosting Regressor allow hyper-parameter tuning. The next stage will tune the hyper-parameters of the Gradient Boosting Regressor algorithm."
   ]
  },
  {
   "cell_type": "code",
   "execution_count": 38,
   "metadata": {
    "collapsed": true
   },
   "outputs": [],
   "source": [
    "#Set tuning parameters\n",
    "gbr_tuning = [{'learning_rate': [0.1,0.5,1.0]}]"
   ]
  },
  {
   "cell_type": "code",
   "execution_count": 39,
   "metadata": {
    "collapsed": true
   },
   "outputs": [],
   "source": [
    "#Set grid search cross validation object\n",
    "tuned_gbr = GridSearchCV(GradientBoostingRegressor(random_state = 1), gbr_tuning, cv = 10, scoring = 'neg_mean_squared_error')"
   ]
  },
  {
   "cell_type": "code",
   "execution_count": 40,
   "metadata": {},
   "outputs": [
    {
     "data": {
      "text/plain": [
       "GridSearchCV(cv=10, error_score='raise',\n",
       "       estimator=GradientBoostingRegressor(alpha=0.9, criterion='friedman_mse', init=None,\n",
       "             learning_rate=0.1, loss='ls', max_depth=3, max_features=None,\n",
       "             max_leaf_nodes=None, min_impurity_decrease=0.0,\n",
       "             min_impurity_split=None, min_samples_leaf=1,\n",
       "             min_samples_split=2, min_weight_fraction_leaf=0.0,\n",
       "             n_estimators=100, presort='auto', random_state=1,\n",
       "             subsample=1.0, verbose=0, warm_start=False),\n",
       "       fit_params=None, iid=True, n_jobs=1,\n",
       "       param_grid=[{'learning_rate': [0.1, 0.5, 1.0]}],\n",
       "       pre_dispatch='2*n_jobs', refit=True, return_train_score='warn',\n",
       "       scoring='neg_mean_squared_error', verbose=0)"
      ]
     },
     "execution_count": 40,
     "metadata": {},
     "output_type": "execute_result"
    }
   ],
   "source": [
    "#Hyper parameter tuning\n",
    "tuned_gbr.fit(X_train, y_continuous_train)"
   ]
  },
  {
   "cell_type": "code",
   "execution_count": 41,
   "metadata": {},
   "outputs": [
    {
     "data": {
      "text/plain": [
       "{'learning_rate': 1.0}"
      ]
     },
     "execution_count": 41,
     "metadata": {},
     "output_type": "execute_result"
    }
   ],
   "source": [
    "#Show best parameter from cross validation\n",
    "tuned_gbr.best_params_"
   ]
  },
  {
   "cell_type": "code",
   "execution_count": 42,
   "metadata": {},
   "outputs": [
    {
     "name": "stdout",
     "output_type": "stream",
     "text": [
      "Average RMSE across folds for the best hyper-parameter: 0.235012307868\n"
     ]
    },
    {
     "name": "stderr",
     "output_type": "stream",
     "text": [
      "C:\\Anaconda3\\lib\\site-packages\\sklearn\\model_selection\\_search.py:761: DeprecationWarning: The grid_scores_ attribute was deprecated in version 0.18 in favor of the more elaborate cv_results_ attribute. The grid_scores_ attribute will not be available from 0.20\n",
      "  DeprecationWarning)\n"
     ]
    }
   ],
   "source": [
    "print('Average RMSE across folds for the best hyper-parameter:' ,np.sqrt(-tuned_gbr.grid_scores_[2][1]))"
   ]
  },
  {
   "cell_type": "code",
   "execution_count": 43,
   "metadata": {
    "collapsed": true,
    "scrolled": true
   },
   "outputs": [],
   "source": [
    "#Generate predictions on test dataset\n",
    "tuned_gbr_preds = tuned_gbr.predict(X_test)"
   ]
  },
  {
   "cell_type": "code",
   "execution_count": 44,
   "metadata": {},
   "outputs": [
    {
     "name": "stdout",
     "output_type": "stream",
     "text": [
      "0.235926026636\n"
     ]
    }
   ],
   "source": [
    "#Compute RMSE on testing dataset from tuned models\n",
    "print(np.sqrt(mean_squared_error(y_continuous_test, tuned_gbr_preds)))"
   ]
  },
  {
   "cell_type": "code",
   "execution_count": 45,
   "metadata": {},
   "outputs": [
    {
     "data": {
      "text/plain": [
       "GradientBoostingRegressor(alpha=0.9, criterion='friedman_mse', init=None,\n",
       "             learning_rate=0.1, loss='ls', max_depth=3, max_features=10,\n",
       "             max_leaf_nodes=None, min_impurity_decrease=0.0,\n",
       "             min_impurity_split=None, min_samples_leaf=1,\n",
       "             min_samples_split=2, min_weight_fraction_leaf=0.0,\n",
       "             n_estimators=100, presort='auto', random_state=1,\n",
       "             subsample=1.0, verbose=0, warm_start=False)"
      ]
     },
     "execution_count": 45,
     "metadata": {},
     "output_type": "execute_result"
    }
   ],
   "source": [
    "#Re-train a model with default feature to check testing performance and study feature importance\n",
    "gbr = GradientBoostingRegressor(random_state = 1, max_features = 10)\n",
    "gbr.fit(X_train, y_continuous_train)"
   ]
  },
  {
   "cell_type": "code",
   "execution_count": 46,
   "metadata": {},
   "outputs": [
    {
     "name": "stdout",
     "output_type": "stream",
     "text": [
      "0.242888895388\n"
     ]
    }
   ],
   "source": [
    "#Check performance in testing subset\n",
    "gbr_preds = gbr.predict(X_test)\n",
    "print(np.sqrt(mean_squared_error(y_continuous_test, gbr_preds)))"
   ]
  },
  {
   "cell_type": "code",
   "execution_count": 47,
   "metadata": {
    "collapsed": true
   },
   "outputs": [],
   "source": [
    "#Create a pandas dataframe with feature importance\n",
    "feature_df = pd.DataFrame(data = gbr.feature_importances_*100, index = feature_labels, columns = ['Importance'])"
   ]
  },
  {
   "cell_type": "code",
   "execution_count": 48,
   "metadata": {
    "collapsed": true
   },
   "outputs": [],
   "source": [
    "#Sort dataframe by feature importance (descending)\n",
    "feature_df.sort_values(by = 'Importance', ascending = False,inplace = True)"
   ]
  },
  {
   "cell_type": "code",
   "execution_count": 49,
   "metadata": {
    "collapsed": true
   },
   "outputs": [],
   "source": [
    "#Add a column with cumulative feature importance\n",
    "feature_df['Importance_Cumulative_Sum'] = feature_df.Importance.cumsum()"
   ]
  },
  {
   "cell_type": "code",
   "execution_count": 63,
   "metadata": {
    "collapsed": true
   },
   "outputs": [],
   "source": [
    "#Translate feature labels to English\n",
    "features_eng = [x[:5] + str(textblob.TextBlob(x).translate(to = 'en')).lower().replace('region','').strip()[5:] if (x.startswith('reg') or x.startswith('cat')) else x for x in feature_labels]\n",
    "features_translation = dict(zip(feature_labels, features_eng))\n",
    "feature_df.rename(features_translation, inplace = True)"
   ]
  },
  {
   "cell_type": "code",
   "execution_count": 84,
   "metadata": {},
   "outputs": [
    {
     "data": {
      "image/png": "[encoded data removed]",
      "text/plain": [
       "<matplotlib.figure.Figure at 0x1dd06803cc0>"
      ]
     },
     "metadata": {},
     "output_type": "display_data"
    }
   ],
   "source": [
    "#Plot feature importance\n",
    "feature_df.loc[feature_df.Importance_Cumulative_Sum<=81,['Importance']].plot(kind = 'bar');\n",
    "plt.title('Feature Importance - Gradient Boosting Regressor');\n",
    "plt.xlabel('Feature');\n",
    "plt.ylabel('Importance Metric');"
   ]
  },
  {
   "cell_type": "markdown",
   "metadata": {},
   "source": [
    "The plot above shows that 18 features (out of 95) make up about 80% of total feature importance. \n",
    "Interesting obsevations:\n",
    "\n",
    "* Feature importance resembles an exponential distribution, with a small group of features representing most of the overall feature importance.\n",
    "* The top three features are **_image_top_1_**, **_cat_a service offer_**, and **_price_**, and they represent a third of total feature importance. It is not surprising that a mix of data objects (image, text, and numerical) contribute to the problem's solution.\n",
    "* Regional information is not significant as it doesn't appear in the most important features.\n",
    "* Out of the 18 features, four of them were engineered from the original dataset (**_price_zscore_**, **_length_description_**, **_img_brightness_**, and **_object_prob_**). This shows the importance of feature engineering.\n",
    "* Eight features are associated with the category of the item. It is crucial to get the category of the item well assigned."
   ]
  }
 ],
 "metadata": {
  "kernelspec": {
   "display_name": "Python 3",
   "language": "python",
   "name": "python3"
  },
  "language_info": {
   "codemirror_mode": {
    "name": "ipython",
    "version": 3
   },
   "file_extension": ".py",
   "mimetype": "text/x-python",
   "name": "python",
   "nbconvert_exporter": "python",
   "pygments_lexer": "ipython3",
   "version": "3.5.3"
  }
 },
 "nbformat": 4,
 "nbformat_minor": 1
}
